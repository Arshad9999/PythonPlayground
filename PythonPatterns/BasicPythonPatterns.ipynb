{
  "nbformat": 4,
  "nbformat_minor": 0,
  "metadata": {
    "colab": {
      "provenance": [],
      "authorship_tag": "ABX9TyP2o7PuMgqLY6dfIUY6sgfO",
      "include_colab_link": true
    },
    "kernelspec": {
      "name": "python3",
      "display_name": "Python 3"
    },
    "language_info": {
      "name": "python"
    }
  },
  "cells": [
    {
      "cell_type": "markdown",
      "metadata": {
        "id": "view-in-github",
        "colab_type": "text"
      },
      "source": [
        "<a href=\"https://colab.research.google.com/github/Arshad9999/PythonPlayground/blob/main/BasicPythonPatterns/BasicPythonPatterns.ipynb\" target=\"_parent\"><img src=\"https://colab.research.google.com/assets/colab-badge.svg\" alt=\"Open In Colab\"/></a>"
      ]
    },
    {
      "cell_type": "markdown",
      "source": [
        "**Pattern Problems**\n",
        "\n",
        "#1\n",
        "#1 2\n",
        "#1 2 3\n",
        "#1 2 3 4"
      ],
      "metadata": {
        "id": "PtIxj0QVLU8x"
      }
    },
    {
      "cell_type": "code",
      "source": [
        "num= int(input(\"Enter the number of rows:\"))\n",
        "for i in range(1,num+1):\n",
        "  for j in range (1,i+1):\n",
        "    print(j,end=\" \")\n",
        "  print()"
      ],
      "metadata": {
        "colab": {
          "base_uri": "https://localhost:8080/"
        },
        "id": "CiDMtqqQLp5J",
        "outputId": "4c3539a4-a3df-4874-86c8-e86acbe484fb"
      },
      "execution_count": null,
      "outputs": [
        {
          "output_type": "stream",
          "name": "stdout",
          "text": [
            "Enter the number of rows:5\n",
            "1 \n",
            "1 2 \n",
            "1 2 3 \n",
            "1 2 3 4 \n",
            "1 2 3 4 5 \n"
          ]
        }
      ]
    },
    {
      "cell_type": "markdown",
      "source": [
        "**Pattern Problems**\n",
        "\n",
        "#*\n",
        "#**\n",
        "#* _ *\n",
        "#* * * *"
      ],
      "metadata": {
        "id": "TEODTLTANUrC"
      }
    },
    {
      "cell_type": "code",
      "source": [
        "num= int(input(\"Enter the number of rows:\"))\n",
        "for i in range(num):\n",
        "  for j in range(i+1):\n",
        "    if j==0 or j==i or i==num-1:\n",
        "      print(end=\"* \")\n",
        "    else:\n",
        "      print(end=\"  \")\n",
        "  print()"
      ],
      "metadata": {
        "colab": {
          "base_uri": "https://localhost:8080/"
        },
        "id": "vVfEvPJ3NXQd",
        "outputId": "35d40d5d-7c77-40ff-8733-10c71c665d9f"
      },
      "execution_count": null,
      "outputs": [
        {
          "output_type": "stream",
          "name": "stdout",
          "text": [
            "Enter the number of rows:5\n",
            "* \n",
            "* * \n",
            "*   * \n",
            "*     * \n",
            "* * * * * \n"
          ]
        }
      ]
    },
    {
      "cell_type": "code",
      "source": [
        "num=int(input(\"Enter the number of rows : \"))\n",
        "for row in range(num):\n",
        "  for col in range(num):\n",
        "    if row==0 or col==num-1 or row==col:\n",
        "      print(\"*\",end=\" \")\n",
        "    else:\n",
        "      print(end=\"  \")\n",
        "  print()"
      ],
      "metadata": {
        "colab": {
          "base_uri": "https://localhost:8080/"
        },
        "id": "NWslGj1RTQdC",
        "outputId": "21c2357e-b797-4edd-afee-8c43518abc17"
      },
      "execution_count": null,
      "outputs": [
        {
          "output_type": "stream",
          "name": "stdout",
          "text": [
            "Enter the number of rows : 11\n",
            "* * * * * * * * * * * \n",
            "  *                 * \n",
            "    *               * \n",
            "      *             * \n",
            "        *           * \n",
            "          *         * \n",
            "            *       * \n",
            "              *     * \n",
            "                *   * \n",
            "                  * * \n",
            "                    * \n"
          ]
        }
      ]
    },
    {
      "cell_type": "code",
      "source": [
        "num=int(input(\"Enter the number of rows : \"))\n",
        "dig=1\n",
        "for row in range(num):\n",
        "  for col in range(row+1):\n",
        "    print(dig,end=\" \")\n",
        "    dig+=1\n",
        "  print()"
      ],
      "metadata": {
        "colab": {
          "base_uri": "https://localhost:8080/"
        },
        "id": "oxo7zbW-Wlzg",
        "outputId": "363a0ec6-5f0b-4360-f886-610c9d8dcde4"
      },
      "execution_count": null,
      "outputs": [
        {
          "output_type": "stream",
          "name": "stdout",
          "text": [
            "Enter the number of rows : 10\n",
            "1 \n",
            "2 3 \n",
            "4 5 6 \n",
            "7 8 9 10 \n",
            "11 12 13 14 15 \n",
            "16 17 18 19 20 21 \n",
            "22 23 24 25 26 27 28 \n",
            "29 30 31 32 33 34 35 36 \n",
            "37 38 39 40 41 42 43 44 45 \n",
            "46 47 48 49 50 51 52 53 54 55 \n"
          ]
        }
      ]
    },
    {
      "cell_type": "code",
      "source": [
        "str=input(\"Enter the String : \")\n",
        "for row in range(len(str)):\n",
        "  for col in range(row+1):\n",
        "    print(str[col],end=\" \")\n",
        "  print()"
      ],
      "metadata": {
        "colab": {
          "base_uri": "https://localhost:8080/"
        },
        "id": "zabPFbz0Xj5d",
        "outputId": "0f3559ec-0c11-46e9-eb7a-de09175d6108"
      },
      "execution_count": null,
      "outputs": [
        {
          "output_type": "stream",
          "name": "stdout",
          "text": [
            "Enter the String : PROGRAMMING\n",
            "P \n",
            "P R \n",
            "P R O \n",
            "P R O G \n",
            "P R O G R \n",
            "P R O G R A \n",
            "P R O G R A M \n",
            "P R O G R A M M \n",
            "P R O G R A M M I \n",
            "P R O G R A M M I N \n",
            "P R O G R A M M I N G \n"
          ]
        }
      ]
    },
    {
      "cell_type": "code",
      "source": [
        "num= int(input(\"Enter the number of rows:\"))\n",
        "for i in range(num,0,-1):\n",
        "  for j in range(1,i+1):\n",
        "    print(j,end=\" \")\n",
        "  print()"
      ],
      "metadata": {
        "colab": {
          "base_uri": "https://localhost:8080/"
        },
        "id": "mF0AN6RDa2aH",
        "outputId": "268a702c-a02f-4eca-bc57-2cc2e1158ab5"
      },
      "execution_count": null,
      "outputs": [
        {
          "output_type": "stream",
          "name": "stdout",
          "text": [
            "Enter the number of rows:5\n",
            "1 2 3 4 5 \n",
            "1 2 3 4 \n",
            "1 2 3 \n",
            "1 2 \n",
            "1 \n"
          ]
        }
      ]
    },
    {
      "cell_type": "code",
      "source": [],
      "metadata": {
        "id": "-AgEEdi_srWH"
      },
      "execution_count": null,
      "outputs": []
    }
  ]
}